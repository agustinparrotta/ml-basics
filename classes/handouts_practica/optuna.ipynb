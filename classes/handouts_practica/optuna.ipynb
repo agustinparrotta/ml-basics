{
 "cells": [
  {
   "cell_type": "markdown",
   "source": [
    "# Optuna para optimizar hiperparámetros"
   ],
   "metadata": {}
  },
  {
   "cell_type": "code",
   "execution_count": 6,
   "source": [
    "import optuna\r\n",
    "from sklearn.datasets import make_regression\r\n",
    "from sklearn.linear_model import Lasso, Ridge, ElasticNet\r\n",
    "from sklearn.model_selection import cross_val_score\r\n",
    "import numpy as np\r\n",
    "from sklearn.metrics import mean_squared_error\r\n",
    "from sklearn.preprocessing import StandardScaler"
   ],
   "outputs": [],
   "metadata": {}
  },
  {
   "cell_type": "code",
   "execution_count": 3,
   "source": [
    "X, y, coef = make_regression(n_samples=1000, n_features=15, n_informative=7, noise=1, coef=True)\r\n",
    "X_train, X_test = X[:750, :], X[750:, :]\r\n",
    "y_train, y_test = y[:750], y[750:]"
   ],
   "outputs": [],
   "metadata": {}
  },
  {
   "cell_type": "code",
   "execution_count": 7,
   "source": [
    "scaler = StandardScaler()\r\n",
    "X_train_scaled = scaler.fit_transform(X_train)\r\n",
    "X_test_scaled = scaler.transform(X_test) "
   ],
   "outputs": [],
   "metadata": {}
  },
  {
   "cell_type": "code",
   "execution_count": 4,
   "source": [
    "coef"
   ],
   "outputs": [
    {
     "output_type": "execute_result",
     "data": {
      "text/plain": [
       "array([91.57126079,  8.15728285,  0.        , 75.25225827, 62.98360811,\n",
       "       60.62421488,  0.        ,  0.        , 76.4548471 ,  6.23733614,\n",
       "        0.        ,  0.        ,  0.        ,  0.        ,  0.        ])"
      ]
     },
     "metadata": {},
     "execution_count": 4
    }
   ],
   "metadata": {}
  },
  {
   "cell_type": "markdown",
   "source": [
    "## Lasso"
   ],
   "metadata": {}
  },
  {
   "cell_type": "code",
   "execution_count": 11,
   "source": [
    "def objective(trial):\r\n",
    "\r\n",
    "    hyperparams = {\r\n",
    "        \"fit_intercept\": trial.suggest_categorical(\"fit_intercept\", [True, False]),\r\n",
    "        \"alpha\": trial.suggest_float(\"alpha\", 1e-2, 10)\r\n",
    "    }\r\n",
    "\r\n",
    "    model = Lasso(**hyperparams)\r\n",
    "\r\n",
    "    score = cross_val_score(model, X_train_scaled, y_train, scoring=\"neg_mean_squared_error\", cv=5).mean()\r\n",
    "\r\n",
    "    return score"
   ],
   "outputs": [],
   "metadata": {}
  },
  {
   "cell_type": "code",
   "execution_count": 12,
   "source": [
    "study = optuna.create_study(direction=\"maximize\")\r\n",
    "study.optimize(objective, n_trials=100)"
   ],
   "outputs": [
    {
     "output_type": "stream",
     "name": "stderr",
     "text": [
      "\u001b[32m[I 2021-10-02 11:36:59,542]\u001b[0m A new study created in memory with name: no-name-dc52915d-7348-4ef2-85b7-eb1889747b7b\u001b[0m\n",
      "\u001b[32m[I 2021-10-02 11:36:59,550]\u001b[0m Trial 0 finished with value: -325.2603351761829 and parameters: {'fit_intercept': True, 'alpha': 6.54976045790956}. Best is trial 0 with value: -325.2603351761829.\u001b[0m\n",
      "\u001b[32m[I 2021-10-02 11:36:59,555]\u001b[0m Trial 1 finished with value: -704.5016149763899 and parameters: {'fit_intercept': False, 'alpha': 9.280835726608117}. Best is trial 0 with value: -325.2603351761829.\u001b[0m\n",
      "\u001b[32m[I 2021-10-02 11:36:59,561]\u001b[0m Trial 2 finished with value: -245.5147373919238 and parameters: {'fit_intercept': True, 'alpha': 5.666076986915445}. Best is trial 2 with value: -245.5147373919238.\u001b[0m\n",
      "\u001b[32m[I 2021-10-02 11:36:59,566]\u001b[0m Trial 3 finished with value: -312.36075606914955 and parameters: {'fit_intercept': False, 'alpha': 4.6470869251854845}. Best is trial 2 with value: -245.5147373919238.\u001b[0m\n",
      "\u001b[32m[I 2021-10-02 11:36:59,573]\u001b[0m Trial 4 finished with value: -199.0301041956959 and parameters: {'fit_intercept': False, 'alpha': 2.6135674948387226}. Best is trial 4 with value: -199.0301041956959.\u001b[0m\n",
      "\u001b[32m[I 2021-10-02 11:36:59,579]\u001b[0m Trial 5 finished with value: -28.734932937579835 and parameters: {'fit_intercept': True, 'alpha': 1.9055265268140447}. Best is trial 5 with value: -28.734932937579835.\u001b[0m\n",
      "\u001b[32m[I 2021-10-02 11:36:59,585]\u001b[0m Trial 6 finished with value: -505.74641477484965 and parameters: {'fit_intercept': False, 'alpha': 6.9864022709416504}. Best is trial 5 with value: -28.734932937579835.\u001b[0m\n",
      "\u001b[32m[I 2021-10-02 11:36:59,591]\u001b[0m Trial 7 finished with value: -195.71998894969002 and parameters: {'fit_intercept': False, 'alpha': 2.530186014288698}. Best is trial 5 with value: -28.734932937579835.\u001b[0m\n",
      "\u001b[32m[I 2021-10-02 11:36:59,598]\u001b[0m Trial 8 finished with value: -480.1570403879929 and parameters: {'fit_intercept': True, 'alpha': 8.44445647762849}. Best is trial 5 with value: -28.734932937579835.\u001b[0m\n",
      "\u001b[32m[I 2021-10-02 11:36:59,605]\u001b[0m Trial 9 finished with value: -217.3411240686537 and parameters: {'fit_intercept': True, 'alpha': 5.329404108419938}. Best is trial 5 with value: -28.734932937579835.\u001b[0m\n",
      "\u001b[32m[I 2021-10-02 11:36:59,617]\u001b[0m Trial 10 finished with value: -1.0144186747818051 and parameters: {'fit_intercept': True, 'alpha': 0.04516340274410835}. Best is trial 10 with value: -1.0144186747818051.\u001b[0m\n",
      "\u001b[32m[I 2021-10-02 11:36:59,626]\u001b[0m Trial 11 finished with value: -1.1337900474880456 and parameters: {'fit_intercept': True, 'alpha': 0.13120978122508997}. Best is trial 10 with value: -1.0144186747818051.\u001b[0m\n",
      "\u001b[32m[I 2021-10-02 11:36:59,635]\u001b[0m Trial 12 finished with value: -1.022062299602706 and parameters: {'fit_intercept': True, 'alpha': 0.055698916917549156}. Best is trial 10 with value: -1.0144186747818051.\u001b[0m\n",
      "\u001b[32m[I 2021-10-02 11:36:59,645]\u001b[0m Trial 13 finished with value: -2.239848340721233 and parameters: {'fit_intercept': True, 'alpha': 0.400340977749077}. Best is trial 10 with value: -1.0144186747818051.\u001b[0m\n",
      "\u001b[32m[I 2021-10-02 11:36:59,654]\u001b[0m Trial 14 finished with value: -17.427619590241168 and parameters: {'fit_intercept': True, 'alpha': 1.4656110550757646}. Best is trial 10 with value: -1.0144186747818051.\u001b[0m\n",
      "\u001b[32m[I 2021-10-02 11:36:59,665]\u001b[0m Trial 15 finished with value: -125.67509117520106 and parameters: {'fit_intercept': True, 'alpha': 4.044714231107349}. Best is trial 10 with value: -1.0144186747818051.\u001b[0m\n",
      "\u001b[32m[I 2021-10-02 11:36:59,675]\u001b[0m Trial 16 finished with value: -109.81869576910306 and parameters: {'fit_intercept': True, 'alpha': 3.778485787496509}. Best is trial 10 with value: -1.0144186747818051.\u001b[0m\n",
      "\u001b[32m[I 2021-10-02 11:36:59,684]\u001b[0m Trial 17 finished with value: -9.707412164222598 and parameters: {'fit_intercept': True, 'alpha': 1.0659974734691977}. Best is trial 10 with value: -1.0144186747818051.\u001b[0m\n",
      "\u001b[32m[I 2021-10-02 11:36:59,694]\u001b[0m Trial 18 finished with value: -62.402218194829686 and parameters: {'fit_intercept': True, 'alpha': 2.837257843450357}. Best is trial 10 with value: -1.0144186747818051.\u001b[0m\n",
      "\u001b[32m[I 2021-10-02 11:36:59,703]\u001b[0m Trial 19 finished with value: -1.033501881888764 and parameters: {'fit_intercept': True, 'alpha': 0.0675409176364322}. Best is trial 10 with value: -1.0144186747818051.\u001b[0m\n",
      "\u001b[32m[I 2021-10-02 11:36:59,714]\u001b[0m Trial 20 finished with value: -14.07865286676864 and parameters: {'fit_intercept': True, 'alpha': 1.3072985478024504}. Best is trial 10 with value: -1.0144186747818051.\u001b[0m\n",
      "\u001b[32m[I 2021-10-02 11:36:59,722]\u001b[0m Trial 21 finished with value: -1.5409846778001082 and parameters: {'fit_intercept': True, 'alpha': 0.2637851330581822}. Best is trial 10 with value: -1.0144186747818051.\u001b[0m\n",
      "\u001b[32m[I 2021-10-02 11:36:59,733]\u001b[0m Trial 22 finished with value: -1.0056444198923986 and parameters: {'fit_intercept': True, 'alpha': 0.02135782173435443}. Best is trial 22 with value: -1.0056444198923986.\u001b[0m\n",
      "\u001b[32m[I 2021-10-02 11:36:59,743]\u001b[0m Trial 23 finished with value: -7.708015721922853 and parameters: {'fit_intercept': True, 'alpha': 0.9351951647465484}. Best is trial 22 with value: -1.0056444198923986.\u001b[0m\n",
      "\u001b[32m[I 2021-10-02 11:36:59,750]\u001b[0m Trial 24 finished with value: -36.812189663932095 and parameters: {'fit_intercept': True, 'alpha': 2.1658455089178297}. Best is trial 22 with value: -1.0056444198923986.\u001b[0m\n",
      "\u001b[32m[I 2021-10-02 11:36:59,761]\u001b[0m Trial 25 finished with value: -105.28654358928125 and parameters: {'fit_intercept': True, 'alpha': 3.6988758135977604}. Best is trial 22 with value: -1.0056444198923986.\u001b[0m\n",
      "\u001b[32m[I 2021-10-02 11:36:59,769]\u001b[0m Trial 26 finished with value: -152.63458745021276 and parameters: {'fit_intercept': False, 'alpha': 0.9324195361360385}. Best is trial 22 with value: -1.0056444198923986.\u001b[0m\n",
      "\u001b[32m[I 2021-10-02 11:36:59,779]\u001b[0m Trial 27 finished with value: -76.87526504265169 and parameters: {'fit_intercept': True, 'alpha': 3.154429568104142}. Best is trial 22 with value: -1.0056444198923986.\u001b[0m\n",
      "\u001b[32m[I 2021-10-02 11:36:59,788]\u001b[0m Trial 28 finished with value: -22.802719337025017 and parameters: {'fit_intercept': True, 'alpha': 1.6890418016079158}. Best is trial 22 with value: -1.0056444198923986.\u001b[0m\n",
      "\u001b[32m[I 2021-10-02 11:36:59,797]\u001b[0m Trial 29 finished with value: -328.94388969872773 and parameters: {'fit_intercept': True, 'alpha': 6.5933208283174665}. Best is trial 22 with value: -1.0056444198923986.\u001b[0m\n",
      "\u001b[32m[I 2021-10-02 11:36:59,809]\u001b[0m Trial 30 finished with value: -431.22543059361413 and parameters: {'fit_intercept': True, 'alpha': 7.877872221933199}. Best is trial 22 with value: -1.0056444198923986.\u001b[0m\n",
      "\u001b[32m[I 2021-10-02 11:36:59,818]\u001b[0m Trial 31 finished with value: -1.088477925887899 and parameters: {'fit_intercept': True, 'alpha': 0.107108678480897}. Best is trial 22 with value: -1.0056444198923986.\u001b[0m\n",
      "\u001b[32m[I 2021-10-02 11:36:59,828]\u001b[0m Trial 32 finished with value: -4.685132463597088 and parameters: {'fit_intercept': True, 'alpha': 0.6922649259139746}. Best is trial 22 with value: -1.0056444198923986.\u001b[0m\n",
      "\u001b[32m[I 2021-10-02 11:36:59,837]\u001b[0m Trial 33 finished with value: -5.1513772082710405 and parameters: {'fit_intercept': True, 'alpha': 0.734959108781228}. Best is trial 22 with value: -1.0056444198923986.\u001b[0m\n",
      "\u001b[32m[I 2021-10-02 11:36:59,849]\u001b[0m Trial 34 finished with value: -147.02014477246917 and parameters: {'fit_intercept': False, 'alpha': 0.12486371631323051}. Best is trial 22 with value: -1.0056444198923986.\u001b[0m\n",
      "\u001b[32m[I 2021-10-02 11:36:59,858]\u001b[0m Trial 35 finished with value: -628.5610871768985 and parameters: {'fit_intercept': True, 'alpha': 9.968161758027858}. Best is trial 22 with value: -1.0056444198923986.\u001b[0m\n",
      "\u001b[32m[I 2021-10-02 11:36:59,868]\u001b[0m Trial 36 finished with value: -24.94966716289954 and parameters: {'fit_intercept': True, 'alpha': 1.7704420310456936}. Best is trial 22 with value: -1.0056444198923986.\u001b[0m\n",
      "\u001b[32m[I 2021-10-02 11:36:59,878]\u001b[0m Trial 37 finished with value: -184.10748256571918 and parameters: {'fit_intercept': False, 'alpha': 2.21349645762071}. Best is trial 22 with value: -1.0056444198923986.\u001b[0m\n",
      "\u001b[32m[I 2021-10-02 11:36:59,888]\u001b[0m Trial 38 finished with value: -11.84860808797722 and parameters: {'fit_intercept': True, 'alpha': 1.1903006838263608}. Best is trial 22 with value: -1.0056444198923986.\u001b[0m\n",
      "\u001b[32m[I 2021-10-02 11:36:59,899]\u001b[0m Trial 39 finished with value: -406.21066597833243 and parameters: {'fit_intercept': False, 'alpha': 5.81998765866623}. Best is trial 22 with value: -1.0056444198923986.\u001b[0m\n",
      "\u001b[32m[I 2021-10-02 11:36:59,909]\u001b[0m Trial 40 finished with value: -3.560752915879445 and parameters: {'fit_intercept': True, 'alpha': 0.5765537533084993}. Best is trial 22 with value: -1.0056444198923986.\u001b[0m\n",
      "\u001b[32m[I 2021-10-02 11:36:59,919]\u001b[0m Trial 41 finished with value: -1.2182250757054702 and parameters: {'fit_intercept': True, 'alpha': 0.1673231763293332}. Best is trial 22 with value: -1.0056444198923986.\u001b[0m\n",
      "\u001b[32m[I 2021-10-02 11:36:59,930]\u001b[0m Trial 42 finished with value: -3.664149582456809 and parameters: {'fit_intercept': True, 'alpha': 0.5881400047758418}. Best is trial 22 with value: -1.0056444198923986.\u001b[0m\n",
      "\u001b[32m[I 2021-10-02 11:36:59,939]\u001b[0m Trial 43 finished with value: -1.0083787902157484 and parameters: {'fit_intercept': True, 'alpha': 0.03330363072794175}. Best is trial 22 with value: -1.0056444198923986.\u001b[0m\n",
      "\u001b[32m[I 2021-10-02 11:36:59,948]\u001b[0m Trial 44 finished with value: -1.0058541550765994 and parameters: {'fit_intercept': True, 'alpha': 0.015071433412095485}. Best is trial 22 with value: -1.0056444198923986.\u001b[0m\n",
      "\u001b[32m[I 2021-10-02 11:36:59,960]\u001b[0m Trial 45 finished with value: -15.327527658441957 and parameters: {'fit_intercept': True, 'alpha': 1.3684715515358243}. Best is trial 22 with value: -1.0056444198923986.\u001b[0m\n",
      "\u001b[32m[I 2021-10-02 11:36:59,970]\u001b[0m Trial 46 finished with value: -35.15459219811801 and parameters: {'fit_intercept': True, 'alpha': 2.115032430331623}. Best is trial 22 with value: -1.0056444198923986.\u001b[0m\n",
      "\u001b[32m[I 2021-10-02 11:36:59,979]\u001b[0m Trial 47 finished with value: -164.02063559925872 and parameters: {'fit_intercept': False, 'alpha': 1.521546797391818}. Best is trial 22 with value: -1.0056444198923986.\u001b[0m\n",
      "\u001b[32m[I 2021-10-02 11:36:59,990]\u001b[0m Trial 48 finished with value: -3.654591595557664 and parameters: {'fit_intercept': True, 'alpha': 0.5870784913102088}. Best is trial 22 with value: -1.0056444198923986.\u001b[0m\n",
      "\u001b[32m[I 2021-10-02 11:36:59,999]\u001b[0m Trial 49 finished with value: -165.96007016862515 and parameters: {'fit_intercept': True, 'alpha': 4.653154787939526}. Best is trial 22 with value: -1.0056444198923986.\u001b[0m\n",
      "\u001b[32m[I 2021-10-02 11:37:00,012]\u001b[0m Trial 50 finished with value: -9.696398697288549 and parameters: {'fit_intercept': True, 'alpha': 1.0653207701205272}. Best is trial 22 with value: -1.0056444198923986.\u001b[0m\n",
      "\u001b[32m[I 2021-10-02 11:37:00,023]\u001b[0m Trial 51 finished with value: -1.0058663993045442 and parameters: {'fit_intercept': True, 'alpha': 0.02340401842980477}. Best is trial 22 with value: -1.0056444198923986.\u001b[0m\n",
      "\u001b[32m[I 2021-10-02 11:37:00,033]\u001b[0m Trial 52 finished with value: -1.0080728629182345 and parameters: {'fit_intercept': True, 'alpha': 0.03244715966082644}. Best is trial 22 with value: -1.0056444198923986.\u001b[0m\n",
      "\u001b[32m[I 2021-10-02 11:37:00,043]\u001b[0m Trial 53 finished with value: -2.731276472526728 and parameters: {'fit_intercept': True, 'alpha': 0.47354864534395275}. Best is trial 22 with value: -1.0056444198923986.\u001b[0m\n",
      "\u001b[32m[I 2021-10-02 11:37:00,052]\u001b[0m Trial 54 finished with value: -7.5963562142018 and parameters: {'fit_intercept': True, 'alpha': 0.927349104090764}. Best is trial 22 with value: -1.0056444198923986.\u001b[0m\n",
      "\u001b[32m[I 2021-10-02 11:37:00,061]\u001b[0m Trial 55 finished with value: -1.008325037896099 and parameters: {'fit_intercept': True, 'alpha': 0.033153955905638466}. Best is trial 22 with value: -1.0056444198923986.\u001b[0m\n",
      "\u001b[32m[I 2021-10-02 11:37:00,072]\u001b[0m Trial 56 finished with value: -1.0056398628001866 and parameters: {'fit_intercept': True, 'alpha': 0.021298809931760466}. Best is trial 56 with value: -1.0056398628001866.\u001b[0m\n",
      "\u001b[32m[I 2021-10-02 11:37:00,081]\u001b[0m Trial 57 finished with value: -2.4784954765721605 and parameters: {'fit_intercept': True, 'alpha': 0.4374094399665801}. Best is trial 56 with value: -1.0056398628001866.\u001b[0m\n",
      "\u001b[32m[I 2021-10-02 11:37:00,091]\u001b[0m Trial 58 finished with value: -48.37016636591726 and parameters: {'fit_intercept': True, 'alpha': 2.4915618903047565}. Best is trial 56 with value: -1.0056398628001866.\u001b[0m\n",
      "\u001b[32m[I 2021-10-02 11:37:00,102]\u001b[0m Trial 59 finished with value: -13.519973868914892 and parameters: {'fit_intercept': True, 'alpha': 1.2789894911111424}. Best is trial 56 with value: -1.0056398628001866.\u001b[0m\n",
      "\u001b[32m[I 2021-10-02 11:37:00,111]\u001b[0m Trial 60 finished with value: -151.44058410679187 and parameters: {'fit_intercept': False, 'alpha': 0.8485091281192634}. Best is trial 56 with value: -1.0056398628001866.\u001b[0m\n",
      "\u001b[32m[I 2021-10-02 11:37:00,121]\u001b[0m Trial 61 finished with value: -1.0345764988164388 and parameters: {'fit_intercept': True, 'alpha': 0.06855064128169178}. Best is trial 56 with value: -1.0056398628001866.\u001b[0m\n",
      "\u001b[32m[I 2021-10-02 11:37:00,132]\u001b[0m Trial 62 finished with value: -2.6208600939182016 and parameters: {'fit_intercept': True, 'alpha': 0.45811022948824404}. Best is trial 56 with value: -1.0056398628001866.\u001b[0m\n",
      "\u001b[32m[I 2021-10-02 11:37:00,142]\u001b[0m Trial 63 finished with value: -1.0068648915879868 and parameters: {'fit_intercept': True, 'alpha': 0.010343407027620106}. Best is trial 56 with value: -1.0056398628001866.\u001b[0m\n",
      "\u001b[32m[I 2021-10-02 11:37:00,152]\u001b[0m Trial 64 finished with value: -2.2328650541472896 and parameters: {'fit_intercept': True, 'alpha': 0.3992050238455372}. Best is trial 56 with value: -1.0056398628001866.\u001b[0m\n",
      "\u001b[32m[I 2021-10-02 11:37:00,162]\u001b[0m Trial 65 finished with value: -6.0690831348848375 and parameters: {'fit_intercept': True, 'alpha': 0.8125014488915285}. Best is trial 56 with value: -1.0056398628001866.\u001b[0m\n",
      "\u001b[32m[I 2021-10-02 11:37:00,174]\u001b[0m Trial 66 finished with value: -22.75227438293681 and parameters: {'fit_intercept': True, 'alpha': 1.687082111791361}. Best is trial 56 with value: -1.0056398628001866.\u001b[0m\n",
      "\u001b[32m[I 2021-10-02 11:37:00,184]\u001b[0m Trial 67 finished with value: -12.140008782797882 and parameters: {'fit_intercept': True, 'alpha': 1.2062311858271222}. Best is trial 56 with value: -1.0056398628001866.\u001b[0m\n",
      "\u001b[32m[I 2021-10-02 11:37:00,194]\u001b[0m Trial 68 finished with value: -2.04882238638624 and parameters: {'fit_intercept': True, 'alpha': 0.36802060634479933}. Best is trial 56 with value: -1.0056398628001866.\u001b[0m\n",
      "\u001b[32m[I 2021-10-02 11:37:00,204]\u001b[0m Trial 69 finished with value: -5.851947476500021 and parameters: {'fit_intercept': True, 'alpha': 0.7948342742990268}. Best is trial 56 with value: -1.0056398628001866.\u001b[0m\n",
      "\u001b[32m[I 2021-10-02 11:37:00,215]\u001b[0m Trial 70 finished with value: -390.0611755152213 and parameters: {'fit_intercept': True, 'alpha': 7.367643959005833}. Best is trial 56 with value: -1.0056398628001866.\u001b[0m\n",
      "\u001b[32m[I 2021-10-02 11:37:00,226]\u001b[0m Trial 71 finished with value: -1.1070101317216636 and parameters: {'fit_intercept': True, 'alpha': 0.11754256266803116}. Best is trial 56 with value: -1.0056398628001866.\u001b[0m\n",
      "\u001b[32m[I 2021-10-02 11:37:00,239]\u001b[0m Trial 72 finished with value: -1.0070477061504959 and parameters: {'fit_intercept': True, 'alpha': 0.029349783484710786}. Best is trial 56 with value: -1.0056398628001866.\u001b[0m\n",
      "\u001b[32m[I 2021-10-02 11:37:00,248]\u001b[0m Trial 73 finished with value: -1.8390322916836186 and parameters: {'fit_intercept': True, 'alpha': 0.3289347415007459}. Best is trial 56 with value: -1.0056398628001866.\u001b[0m\n",
      "\u001b[32m[I 2021-10-02 11:37:00,259]\u001b[0m Trial 74 finished with value: -4.5525873224255315 and parameters: {'fit_intercept': True, 'alpha': 0.67964150412931}. Best is trial 56 with value: -1.0056398628001866.\u001b[0m\n",
      "\u001b[32m[I 2021-10-02 11:37:00,270]\u001b[0m Trial 75 finished with value: -10.280410585316869 and parameters: {'fit_intercept': True, 'alpha': 1.1006329008441242}. Best is trial 56 with value: -1.0056398628001866.\u001b[0m\n",
      "\u001b[32m[I 2021-10-02 11:37:00,280]\u001b[0m Trial 76 finished with value: -1.8796122662665145 and parameters: {'fit_intercept': True, 'alpha': 0.33684452375278423}. Best is trial 56 with value: -1.0056398628001866.\u001b[0m\n",
      "\u001b[32m[I 2021-10-02 11:37:00,290]\u001b[0m Trial 77 finished with value: -1.0057496177360499 and parameters: {'fit_intercept': True, 'alpha': 0.016503702181890262}. Best is trial 56 with value: -1.0056398628001866.\u001b[0m\n",
      "\u001b[32m[I 2021-10-02 11:37:00,299]\u001b[0m Trial 78 finished with value: -148.08334929885854 and parameters: {'fit_intercept': False, 'alpha': 0.01536003378934878}. Best is trial 56 with value: -1.0056398628001866.\u001b[0m\n",
      "\u001b[32m[I 2021-10-02 11:37:00,310]\u001b[0m Trial 79 finished with value: -19.457567687451906 and parameters: {'fit_intercept': True, 'alpha': 1.5537609232953018}. Best is trial 56 with value: -1.0056398628001866.\u001b[0m\n",
      "\u001b[32m[I 2021-10-02 11:37:00,319]\u001b[0m Trial 80 finished with value: -7.575958848845064 and parameters: {'fit_intercept': True, 'alpha': 0.9259086796901667}. Best is trial 56 with value: -1.0056398628001866.\u001b[0m\n",
      "\u001b[32m[I 2021-10-02 11:37:00,328]\u001b[0m Trial 81 finished with value: -1.7217838927567328 and parameters: {'fit_intercept': True, 'alpha': 0.3049467999587286}. Best is trial 56 with value: -1.0056398628001866.\u001b[0m\n",
      "\u001b[32m[I 2021-10-02 11:37:00,338]\u001b[0m Trial 82 finished with value: -3.9959403150935087 and parameters: {'fit_intercept': True, 'alpha': 0.6238642688690836}. Best is trial 56 with value: -1.0056398628001866.\u001b[0m\n",
      "\u001b[32m[I 2021-10-02 11:37:00,347]\u001b[0m Trial 83 finished with value: -522.2720854003989 and parameters: {'fit_intercept': True, 'alpha': 8.903346983893043}. Best is trial 56 with value: -1.0056398628001866.\u001b[0m\n",
      "\u001b[32m[I 2021-10-02 11:37:00,357]\u001b[0m Trial 84 finished with value: -1.0124344431025016 and parameters: {'fit_intercept': True, 'alpha': 0.041701115642254455}. Best is trial 56 with value: -1.0056398628001866.\u001b[0m\n",
      "\u001b[32m[I 2021-10-02 11:37:00,368]\u001b[0m Trial 85 finished with value: -1.6635831411996147 and parameters: {'fit_intercept': True, 'alpha': 0.2923202661256346}. Best is trial 56 with value: -1.0056398628001866.\u001b[0m\n",
      "\u001b[32m[I 2021-10-02 11:37:00,378]\u001b[0m Trial 86 finished with value: -240.54314502601582 and parameters: {'fit_intercept': True, 'alpha': 5.608134404076776}. Best is trial 56 with value: -1.0056398628001866.\u001b[0m\n",
      "\u001b[32m[I 2021-10-02 11:37:00,388]\u001b[0m Trial 87 finished with value: -4.248089551402593 and parameters: {'fit_intercept': True, 'alpha': 0.6497196280574246}. Best is trial 56 with value: -1.0056398628001866.\u001b[0m\n",
      "\u001b[32m[I 2021-10-02 11:37:00,398]\u001b[0m Trial 88 finished with value: -10.110362033354505 and parameters: {'fit_intercept': True, 'alpha': 1.090468489780197}. Best is trial 56 with value: -1.0056398628001866.\u001b[0m\n",
      "\u001b[32m[I 2021-10-02 11:37:00,409]\u001b[0m Trial 89 finished with value: -1.0057456785067103 and parameters: {'fit_intercept': True, 'alpha': 0.01656929541668105}. Best is trial 56 with value: -1.0056398628001866.\u001b[0m\n",
      "\u001b[32m[I 2021-10-02 11:37:00,418]\u001b[0m Trial 90 finished with value: -227.74968663127348 and parameters: {'fit_intercept': False, 'alpha': 3.249690410731084}. Best is trial 56 with value: -1.0056398628001866.\u001b[0m\n",
      "\u001b[32m[I 2021-10-02 11:37:00,429]\u001b[0m Trial 91 finished with value: -1.5382914614917724 and parameters: {'fit_intercept': True, 'alpha': 0.2631241228568629}. Best is trial 56 with value: -1.0056398628001866.\u001b[0m\n",
      "\u001b[32m[I 2021-10-02 11:37:00,439]\u001b[0m Trial 92 finished with value: -3.267061600596823 and parameters: {'fit_intercept': True, 'alpha': 0.5423064180025854}. Best is trial 56 with value: -1.0056398628001866.\u001b[0m\n",
      "\u001b[32m[I 2021-10-02 11:37:00,450]\u001b[0m Trial 93 finished with value: -1.3784174715479032 and parameters: {'fit_intercept': True, 'alpha': 0.22043103251901805}. Best is trial 56 with value: -1.0056398628001866.\u001b[0m\n",
      "\u001b[32m[I 2021-10-02 11:37:00,459]\u001b[0m Trial 94 finished with value: -4.677341227800207 and parameters: {'fit_intercept': True, 'alpha': 0.6915292325904157}. Best is trial 56 with value: -1.0056398628001866.\u001b[0m\n",
      "\u001b[32m[I 2021-10-02 11:37:00,470]\u001b[0m Trial 95 finished with value: -1.0061124923066003 and parameters: {'fit_intercept': True, 'alpha': 0.024928667390369284}. Best is trial 56 with value: -1.0056398628001866.\u001b[0m\n",
      "\u001b[32m[I 2021-10-02 11:37:00,481]\u001b[0m Trial 96 finished with value: -2.8407958924370917 and parameters: {'fit_intercept': True, 'alpha': 0.4883841049657297}. Best is trial 56 with value: -1.0056398628001866.\u001b[0m\n",
      "\u001b[32m[I 2021-10-02 11:37:00,494]\u001b[0m Trial 97 finished with value: -7.384263839919612 and parameters: {'fit_intercept': True, 'alpha': 0.9122609490230849}. Best is trial 56 with value: -1.0056398628001866.\u001b[0m\n",
      "\u001b[32m[I 2021-10-02 11:37:00,505]\u001b[0m Trial 98 finished with value: -1.3940882407314272 and parameters: {'fit_intercept': True, 'alpha': 0.22496725995387643}. Best is trial 56 with value: -1.0056398628001866.\u001b[0m\n",
      "\u001b[32m[I 2021-10-02 11:37:00,515]\u001b[0m Trial 99 finished with value: -16.390652598122088 and parameters: {'fit_intercept': True, 'alpha': 1.4184753211738153}. Best is trial 56 with value: -1.0056398628001866.\u001b[0m\n"
     ]
    }
   ],
   "metadata": {}
  },
  {
   "cell_type": "code",
   "execution_count": 13,
   "source": [
    "study.best_params"
   ],
   "outputs": [
    {
     "output_type": "execute_result",
     "data": {
      "text/plain": [
       "{'fit_intercept': True, 'alpha': 0.021298809931760466}"
      ]
     },
     "metadata": {},
     "execution_count": 13
    }
   ],
   "metadata": {}
  },
  {
   "cell_type": "code",
   "execution_count": 14,
   "source": [
    "model = Lasso(**study.best_params)\r\n",
    "model.fit(X_train_scaled, y_train)"
   ],
   "outputs": [
    {
     "output_type": "execute_result",
     "data": {
      "text/plain": [
       "Lasso(alpha=0.021298809931760466)"
      ]
     },
     "metadata": {},
     "execution_count": 14
    }
   ],
   "metadata": {}
  },
  {
   "cell_type": "markdown",
   "source": [
    "## Ridge"
   ],
   "metadata": {}
  },
  {
   "cell_type": "code",
   "execution_count": 15,
   "source": [
    "def objective(trial):\r\n",
    "\r\n",
    "    hyperparams = {\r\n",
    "        \"fit_intercept\": trial.suggest_categorical(\"fit_intercept\", [True, False]),\r\n",
    "        \"alpha\": trial.suggest_float(\"alpha\", 1e-2, 10)\r\n",
    "    }\r\n",
    "\r\n",
    "    model = Ridge(**hyperparams)\r\n",
    "\r\n",
    "    score = cross_val_score(model, X_train_scaled, y_train, scoring=\"neg_mean_squared_error\", cv=5).mean()\r\n",
    "\r\n",
    "    return score"
   ],
   "outputs": [],
   "metadata": {}
  },
  {
   "cell_type": "code",
   "execution_count": 16,
   "source": [
    "study = optuna.create_study(direction=\"maximize\")\r\n",
    "study.optimize(objective, n_trials=100)"
   ],
   "outputs": [
    {
     "output_type": "stream",
     "name": "stderr",
     "text": [
      "\u001b[32m[I 2021-10-02 11:38:41,967]\u001b[0m A new study created in memory with name: no-name-34f16b27-85cf-451f-a813-ef54c4e2e1fa\u001b[0m\n",
      "\u001b[32m[I 2021-10-02 11:38:41,984]\u001b[0m Trial 0 finished with value: -152.6921222419727 and parameters: {'fit_intercept': False, 'alpha': 7.2552921346436925}. Best is trial 0 with value: -152.6921222419727.\u001b[0m\n",
      "\u001b[32m[I 2021-10-02 11:38:41,990]\u001b[0m Trial 1 finished with value: -155.10253159715268 and parameters: {'fit_intercept': False, 'alpha': 9.057140526390814}. Best is trial 0 with value: -152.6921222419727.\u001b[0m\n",
      "\u001b[32m[I 2021-10-02 11:38:41,996]\u001b[0m Trial 2 finished with value: -1.356936787444705 and parameters: {'fit_intercept': True, 'alpha': 1.9844469572648458}. Best is trial 2 with value: -1.356936787444705.\u001b[0m\n",
      "\u001b[32m[I 2021-10-02 11:38:42,001]\u001b[0m Trial 3 finished with value: -148.29762687275417 and parameters: {'fit_intercept': False, 'alpha': 0.5419439160708558}. Best is trial 2 with value: -1.356936787444705.\u001b[0m\n",
      "\u001b[32m[I 2021-10-02 11:38:42,008]\u001b[0m Trial 4 finished with value: -6.473029282505928 and parameters: {'fit_intercept': True, 'alpha': 8.072075409444247}. Best is trial 2 with value: -1.356936787444705.\u001b[0m\n",
      "\u001b[32m[I 2021-10-02 11:38:42,015]\u001b[0m Trial 5 finished with value: -8.529710193992003 and parameters: {'fit_intercept': True, 'alpha': 9.500574290619612}. Best is trial 2 with value: -1.356936787444705.\u001b[0m\n",
      "\u001b[32m[I 2021-10-02 11:38:42,021]\u001b[0m Trial 6 finished with value: -1.3427586554937458 and parameters: {'fit_intercept': True, 'alpha': 1.9424768255122107}. Best is trial 6 with value: -1.3427586554937458.\u001b[0m\n",
      "\u001b[32m[I 2021-10-02 11:38:42,028]\u001b[0m Trial 7 finished with value: -148.86287006939023 and parameters: {'fit_intercept': False, 'alpha': 2.611639446144142}. Best is trial 6 with value: -1.3427586554937458.\u001b[0m\n",
      "\u001b[32m[I 2021-10-02 11:38:42,034]\u001b[0m Trial 8 finished with value: -2.468328631239455 and parameters: {'fit_intercept': True, 'alpha': 4.124478922680812}. Best is trial 6 with value: -1.3427586554937458.\u001b[0m\n",
      "\u001b[32m[I 2021-10-02 11:38:42,039]\u001b[0m Trial 9 finished with value: -149.88501054635645 and parameters: {'fit_intercept': False, 'alpha': 4.346907624744981}. Best is trial 6 with value: -1.3427586554937458.\u001b[0m\n",
      "\u001b[32m[I 2021-10-02 11:38:42,049]\u001b[0m Trial 10 finished with value: -4.469677149819267 and parameters: {'fit_intercept': True, 'alpha': 6.397510326796428}. Best is trial 6 with value: -1.3427586554937458.\u001b[0m\n",
      "\u001b[32m[I 2021-10-02 11:38:42,058]\u001b[0m Trial 11 finished with value: -1.043011625232707 and parameters: {'fit_intercept': True, 'alpha': 0.5726120855838508}. Best is trial 11 with value: -1.043011625232707.\u001b[0m\n",
      "\u001b[32m[I 2021-10-02 11:38:42,067]\u001b[0m Trial 12 finished with value: -1.0127695223640099 and parameters: {'fit_intercept': True, 'alpha': 0.060585378664971046}. Best is trial 12 with value: -1.0127695223640099.\u001b[0m\n",
      "\u001b[32m[I 2021-10-02 11:38:42,077]\u001b[0m Trial 13 finished with value: -1.0126458005771621 and parameters: {'fit_intercept': True, 'alpha': 0.052092622206205766}. Best is trial 13 with value: -1.0126458005771621.\u001b[0m\n",
      "\u001b[32m[I 2021-10-02 11:38:42,087]\u001b[0m Trial 14 finished with value: -1.015542637943728 and parameters: {'fit_intercept': True, 'alpha': 0.17218439083714915}. Best is trial 13 with value: -1.0126458005771621.\u001b[0m\n",
      "\u001b[32m[I 2021-10-02 11:38:42,096]\u001b[0m Trial 15 finished with value: -1.8219832712255797 and parameters: {'fit_intercept': True, 'alpha': 3.062546154054587}. Best is trial 13 with value: -1.0126458005771621.\u001b[0m\n",
      "\u001b[32m[I 2021-10-02 11:38:42,105]\u001b[0m Trial 16 finished with value: -3.8143101516394387 and parameters: {'fit_intercept': True, 'alpha': 5.749678913674193}. Best is trial 13 with value: -1.0126458005771621.\u001b[0m\n",
      "\u001b[32m[I 2021-10-02 11:38:42,113]\u001b[0m Trial 17 finished with value: -1.2359990960859881 and parameters: {'fit_intercept': True, 'alpha': 1.592316522266196}. Best is trial 13 with value: -1.0126458005771621.\u001b[0m\n",
      "\u001b[32m[I 2021-10-02 11:38:42,124]\u001b[0m Trial 18 finished with value: -2.116177716182693 and parameters: {'fit_intercept': True, 'alpha': 3.5840372232477584}. Best is trial 13 with value: -1.0126458005771621.\u001b[0m\n",
      "\u001b[32m[I 2021-10-02 11:38:42,136]\u001b[0m Trial 19 finished with value: -1.0142122688549449 and parameters: {'fit_intercept': True, 'alpha': 0.12883602537830188}. Best is trial 13 with value: -1.0126458005771621.\u001b[0m\n",
      "\u001b[32m[I 2021-10-02 11:38:42,145]\u001b[0m Trial 20 finished with value: -1.1224405168007554 and parameters: {'fit_intercept': True, 'alpha': 1.108294071036608}. Best is trial 13 with value: -1.0126458005771621.\u001b[0m\n",
      "\u001b[32m[I 2021-10-02 11:38:42,154]\u001b[0m Trial 21 finished with value: -1.012293186676343 and parameters: {'fit_intercept': True, 'alpha': 0.02039878915698065}. Best is trial 21 with value: -1.012293186676343.\u001b[0m\n",
      "\u001b[32m[I 2021-10-02 11:38:42,164]\u001b[0m Trial 22 finished with value: -1.1182915426614894 and parameters: {'fit_intercept': True, 'alpha': 1.0866716309840112}. Best is trial 21 with value: -1.012293186676343.\u001b[0m\n",
      "\u001b[32m[I 2021-10-02 11:38:42,174]\u001b[0m Trial 23 finished with value: -1.7087159305649486 and parameters: {'fit_intercept': True, 'alpha': 2.8370618920295403}. Best is trial 21 with value: -1.012293186676343.\u001b[0m\n",
      "\u001b[32m[I 2021-10-02 11:38:42,183]\u001b[0m Trial 24 finished with value: -1.012243403940061 and parameters: {'fit_intercept': True, 'alpha': 0.014071786651046192}. Best is trial 24 with value: -1.012243403940061.\u001b[0m\n",
      "\u001b[32m[I 2021-10-02 11:38:42,194]\u001b[0m Trial 25 finished with value: -1.15247856253657 and parameters: {'fit_intercept': True, 'alpha': 1.254076114689135}. Best is trial 24 with value: -1.012243403940061.\u001b[0m\n",
      "\u001b[32m[I 2021-10-02 11:38:42,203]\u001b[0m Trial 26 finished with value: -1.4218017494083282 and parameters: {'fit_intercept': True, 'alpha': 2.1663584543531265}. Best is trial 24 with value: -1.012243403940061.\u001b[0m\n",
      "\u001b[32m[I 2021-10-02 11:38:42,212]\u001b[0m Trial 27 finished with value: -148.34658664700623 and parameters: {'fit_intercept': False, 'alpha': 0.9168500524454865}. Best is trial 24 with value: -1.012243403940061.\u001b[0m\n",
      "\u001b[32m[I 2021-10-02 11:38:42,222]\u001b[0m Trial 28 finished with value: -3.2506427435437777 and parameters: {'fit_intercept': True, 'alpha': 5.130079108310305}. Best is trial 24 with value: -1.012243403940061.\u001b[0m\n",
      "\u001b[32m[I 2021-10-02 11:38:42,231]\u001b[0m Trial 29 finished with value: -152.8586140259381 and parameters: {'fit_intercept': False, 'alpha': 7.393161530650817}. Best is trial 24 with value: -1.012243403940061.\u001b[0m\n",
      "\u001b[32m[I 2021-10-02 11:38:42,240]\u001b[0m Trial 30 finished with value: -1.219770391623849 and parameters: {'fit_intercept': True, 'alpha': 1.5322963031788452}. Best is trial 24 with value: -1.012243403940061.\u001b[0m\n",
      "\u001b[32m[I 2021-10-02 11:38:42,250]\u001b[0m Trial 31 finished with value: -1.013686429327473 and parameters: {'fit_intercept': True, 'alpha': 0.10796516932752187}. Best is trial 24 with value: -1.012243403940061.\u001b[0m\n",
      "\u001b[32m[I 2021-10-02 11:38:42,262]\u001b[0m Trial 32 finished with value: -1.0569020562625604 and parameters: {'fit_intercept': True, 'alpha': 0.6953253068051383}. Best is trial 24 with value: -1.012243403940061.\u001b[0m\n",
      "\u001b[32m[I 2021-10-02 11:38:42,272]\u001b[0m Trial 33 finished with value: -1.0124229614145916 and parameters: {'fit_intercept': True, 'alpha': 0.03395655426355479}. Best is trial 24 with value: -1.012243403940061.\u001b[0m\n",
      "\u001b[32m[I 2021-10-02 11:38:42,281]\u001b[0m Trial 34 finished with value: -148.67913203955595 and parameters: {'fit_intercept': False, 'alpha': 2.1620890056826805}. Best is trial 24 with value: -1.012243403940061.\u001b[0m\n",
      "\u001b[32m[I 2021-10-02 11:38:42,291]\u001b[0m Trial 35 finished with value: -1.0507442749219151 and parameters: {'fit_intercept': True, 'alpha': 0.6436843731102886}. Best is trial 24 with value: -1.012243403940061.\u001b[0m\n",
      "\u001b[32m[I 2021-10-02 11:38:42,301]\u001b[0m Trial 36 finished with value: -1.2514001345179968 and parameters: {'fit_intercept': True, 'alpha': 1.6473062180175024}. Best is trial 24 with value: -1.012243403940061.\u001b[0m\n",
      "\u001b[32m[I 2021-10-02 11:38:42,310]\u001b[0m Trial 37 finished with value: -7.412454085695478 and parameters: {'fit_intercept': True, 'alpha': 8.752057022252348}. Best is trial 24 with value: -1.012243403940061.\u001b[0m\n",
      "\u001b[32m[I 2021-10-02 11:38:42,319]\u001b[0m Trial 38 finished with value: -148.30383626915338 and parameters: {'fit_intercept': False, 'alpha': 0.6017098467435167}. Best is trial 24 with value: -1.012243403940061.\u001b[0m\n",
      "\u001b[32m[I 2021-10-02 11:38:42,331]\u001b[0m Trial 39 finished with value: -1.5455889324096965 and parameters: {'fit_intercept': True, 'alpha': 2.4775307234448554}. Best is trial 24 with value: -1.012243403940061.\u001b[0m\n",
      "\u001b[32m[I 2021-10-02 11:38:42,341]\u001b[0m Trial 40 finished with value: -1.906078910321988 and parameters: {'fit_intercept': True, 'alpha': 3.220010758829102}. Best is trial 24 with value: -1.012243403940061.\u001b[0m\n",
      "\u001b[32m[I 2021-10-02 11:38:42,350]\u001b[0m Trial 41 finished with value: -1.0128080927119238 and parameters: {'fit_intercept': True, 'alpha': 0.06307246005897985}. Best is trial 24 with value: -1.012243403940061.\u001b[0m\n",
      "\u001b[32m[I 2021-10-02 11:38:42,362]\u001b[0m Trial 42 finished with value: -1.1486766302183433 and parameters: {'fit_intercept': True, 'alpha': 1.236547102189771}. Best is trial 24 with value: -1.012243403940061.\u001b[0m\n",
      "\u001b[32m[I 2021-10-02 11:38:42,373]\u001b[0m Trial 43 finished with value: -1.0127096786311043 and parameters: {'fit_intercept': True, 'alpha': 0.056583126217991546}. Best is trial 24 with value: -1.012243403940061.\u001b[0m\n",
      "\u001b[32m[I 2021-10-02 11:38:42,383]\u001b[0m Trial 44 finished with value: -1.036447884501687 and parameters: {'fit_intercept': True, 'alpha': 0.5049336846560464}. Best is trial 24 with value: -1.012243403940061.\u001b[0m\n",
      "\u001b[32m[I 2021-10-02 11:38:42,396]\u001b[0m Trial 45 finished with value: -1.2845704605943593 and parameters: {'fit_intercept': True, 'alpha': 1.7600599660676934}. Best is trial 24 with value: -1.012243403940061.\u001b[0m\n",
      "\u001b[32m[I 2021-10-02 11:38:42,408]\u001b[0m Trial 46 finished with value: -1.0311956116510028 and parameters: {'fit_intercept': True, 'alpha': 0.44386994746871944}. Best is trial 24 with value: -1.012243403940061.\u001b[0m\n",
      "\u001b[32m[I 2021-10-02 11:38:42,417]\u001b[0m Trial 47 finished with value: -148.37548982790483 and parameters: {'fit_intercept': False, 'alpha': 1.0809144058690143}. Best is trial 24 with value: -1.012243403940061.\u001b[0m\n",
      "\u001b[32m[I 2021-10-02 11:38:42,427]\u001b[0m Trial 48 finished with value: -1.0122453125534132 and parameters: {'fit_intercept': True, 'alpha': 0.014331517511304336}. Best is trial 24 with value: -1.012243403940061.\u001b[0m\n",
      "\u001b[32m[I 2021-10-02 11:38:42,438]\u001b[0m Trial 49 finished with value: -1.0661124375762177 and parameters: {'fit_intercept': True, 'alpha': 0.7663528141423092}. Best is trial 24 with value: -1.012243403940061.\u001b[0m\n",
      "\u001b[32m[I 2021-10-02 11:38:42,447]\u001b[0m Trial 50 finished with value: -4.592490311034593 and parameters: {'fit_intercept': True, 'alpha': 6.5120093987322445}. Best is trial 24 with value: -1.012243403940061.\u001b[0m\n",
      "\u001b[32m[I 2021-10-02 11:38:42,457]\u001b[0m Trial 51 finished with value: -1.0122601041866477 and parameters: {'fit_intercept': True, 'alpha': 0.016293583977585874}. Best is trial 24 with value: -1.012243403940061.\u001b[0m\n",
      "\u001b[32m[I 2021-10-02 11:38:42,466]\u001b[0m Trial 52 finished with value: -1.0247118839312193 and parameters: {'fit_intercept': True, 'alpha': 0.3553626038877249}. Best is trial 24 with value: -1.012243403940061.\u001b[0m\n",
      "\u001b[32m[I 2021-10-02 11:38:42,475]\u001b[0m Trial 53 finished with value: -1.1825624209719596 and parameters: {'fit_intercept': True, 'alpha': 1.3851884066817521}. Best is trial 24 with value: -1.012243403940061.\u001b[0m\n",
      "\u001b[32m[I 2021-10-02 11:38:42,485]\u001b[0m Trial 54 finished with value: -9.251891054132036 and parameters: {'fit_intercept': True, 'alpha': 9.956036707112698}. Best is trial 24 with value: -1.012243403940061.\u001b[0m\n",
      "\u001b[32m[I 2021-10-02 11:38:42,496]\u001b[0m Trial 55 finished with value: -1.085903683192429 and parameters: {'fit_intercept': True, 'alpha': 0.9008636761266785}. Best is trial 24 with value: -1.012243403940061.\u001b[0m\n",
      "\u001b[32m[I 2021-10-02 11:38:42,505]\u001b[0m Trial 56 finished with value: -1.0305125337141745 and parameters: {'fit_intercept': True, 'alpha': 0.4353399201376923}. Best is trial 24 with value: -1.012243403940061.\u001b[0m\n",
      "\u001b[32m[I 2021-10-02 11:38:42,516]\u001b[0m Trial 57 finished with value: -1.0749591780291954 and parameters: {'fit_intercept': True, 'alpha': 0.8290781235953757}. Best is trial 24 with value: -1.012243403940061.\u001b[0m\n",
      "\u001b[32m[I 2021-10-02 11:38:42,525]\u001b[0m Trial 58 finished with value: -1.3396322328523973 and parameters: {'fit_intercept': True, 'alpha': 1.9331024935308843}. Best is trial 24 with value: -1.012243403940061.\u001b[0m\n",
      "\u001b[32m[I 2021-10-02 11:38:42,534]\u001b[0m Trial 59 finished with value: -148.26913718611047 and parameters: {'fit_intercept': False, 'alpha': 0.01269376785038967}. Best is trial 24 with value: -1.012243403940061.\u001b[0m\n",
      "\u001b[32m[I 2021-10-02 11:38:42,543]\u001b[0m Trial 60 finished with value: -2.3131107538290685 and parameters: {'fit_intercept': True, 'alpha': 3.8952568473009266}. Best is trial 24 with value: -1.012243403940061.\u001b[0m\n",
      "\u001b[32m[I 2021-10-02 11:38:42,555]\u001b[0m Trial 61 finished with value: -1.0268405818727078 and parameters: {'fit_intercept': True, 'alpha': 0.38650148527376704}. Best is trial 24 with value: -1.012243403940061.\u001b[0m\n",
      "\u001b[32m[I 2021-10-02 11:38:42,568]\u001b[0m Trial 62 finished with value: -1.012300663271009 and parameters: {'fit_intercept': True, 'alpha': 0.021279850132785025}. Best is trial 24 with value: -1.012243403940061.\u001b[0m\n",
      "\u001b[32m[I 2021-10-02 11:38:42,582]\u001b[0m Trial 63 finished with value: -1.100926050990743 and parameters: {'fit_intercept': True, 'alpha': 0.9912404474518364}. Best is trial 24 with value: -1.012243403940061.\u001b[0m\n",
      "\u001b[32m[I 2021-10-02 11:38:42,593]\u001b[0m Trial 64 finished with value: -1.0202613104162945 and parameters: {'fit_intercept': True, 'alpha': 0.28030396983416805}. Best is trial 24 with value: -1.012243403940061.\u001b[0m\n",
      "\u001b[32m[I 2021-10-02 11:38:42,603]\u001b[0m Trial 65 finished with value: -1.169983437004101 and parameters: {'fit_intercept': True, 'alpha': 1.3318927805789615}. Best is trial 24 with value: -1.012243403940061.\u001b[0m\n",
      "\u001b[32m[I 2021-10-02 11:38:42,615]\u001b[0m Trial 66 finished with value: -1.0600543641198374 and parameters: {'fit_intercept': True, 'alpha': 0.7203901550691406}. Best is trial 24 with value: -1.012243403940061.\u001b[0m\n",
      "\u001b[32m[I 2021-10-02 11:38:42,626]\u001b[0m Trial 67 finished with value: -1.0219789835224176 and parameters: {'fit_intercept': True, 'alpha': 0.3112383239497637}. Best is trial 24 with value: -1.012243403940061.\u001b[0m\n",
      "\u001b[32m[I 2021-10-02 11:38:42,635]\u001b[0m Trial 68 finished with value: -1.097398314994049 and parameters: {'fit_intercept': True, 'alpha': 0.9707476739153209}. Best is trial 24 with value: -1.012243403940061.\u001b[0m\n",
      "\u001b[32m[I 2021-10-02 11:38:42,647]\u001b[0m Trial 69 finished with value: -1.184319420661023 and parameters: {'fit_intercept': True, 'alpha': 1.3924747368044086}. Best is trial 24 with value: -1.012243403940061.\u001b[0m\n",
      "\u001b[32m[I 2021-10-02 11:38:42,656]\u001b[0m Trial 70 finished with value: -148.73831349335788 and parameters: {'fit_intercept': False, 'alpha': 2.316149770916457}. Best is trial 24 with value: -1.012243403940061.\u001b[0m\n",
      "\u001b[32m[I 2021-10-02 11:38:42,667]\u001b[0m Trial 71 finished with value: -1.0123103001420566 and parameters: {'fit_intercept': True, 'alpha': 0.022393068259503206}. Best is trial 24 with value: -1.012243403940061.\u001b[0m\n",
      "\u001b[32m[I 2021-10-02 11:38:42,677]\u001b[0m Trial 72 finished with value: -1.0130723282970455 and parameters: {'fit_intercept': True, 'alpha': 0.07857148408034838}. Best is trial 24 with value: -1.012243403940061.\u001b[0m\n",
      "\u001b[32m[I 2021-10-02 11:38:42,687]\u001b[0m Trial 73 finished with value: -1.0447848963775235 and parameters: {'fit_intercept': True, 'alpha': 0.5896303401525097}. Best is trial 24 with value: -1.012243403940061.\u001b[0m\n",
      "\u001b[32m[I 2021-10-02 11:38:42,697]\u001b[0m Trial 74 finished with value: -1.0225232391068673 and parameters: {'fit_intercept': True, 'alpha': 0.3204697217783283}. Best is trial 24 with value: -1.012243403940061.\u001b[0m\n",
      "\u001b[32m[I 2021-10-02 11:38:42,707]\u001b[0m Trial 75 finished with value: -3.0351623619049732 and parameters: {'fit_intercept': True, 'alpha': 4.873206406713171}. Best is trial 24 with value: -1.012243403940061.\u001b[0m\n",
      "\u001b[32m[I 2021-10-02 11:38:42,718]\u001b[0m Trial 76 finished with value: -1.012690086683309 and parameters: {'fit_intercept': True, 'alpha': 0.05523139531452689}. Best is trial 24 with value: -1.012243403940061.\u001b[0m\n",
      "\u001b[32m[I 2021-10-02 11:38:42,729]\u001b[0m Trial 77 finished with value: -1.0543507450701823 and parameters: {'fit_intercept': True, 'alpha': 0.6743878692551323}. Best is trial 24 with value: -1.012243403940061.\u001b[0m\n",
      "\u001b[32m[I 2021-10-02 11:38:42,741]\u001b[0m Trial 78 finished with value: -1.133301531868528 and parameters: {'fit_intercept': True, 'alpha': 1.163051495173229}. Best is trial 24 with value: -1.012243403940061.\u001b[0m\n",
      "\u001b[32m[I 2021-10-02 11:38:42,751]\u001b[0m Trial 79 finished with value: -1.2976648818493473 and parameters: {'fit_intercept': True, 'alpha': 1.8026787486494795}. Best is trial 24 with value: -1.012243403940061.\u001b[0m\n",
      "\u001b[32m[I 2021-10-02 11:38:42,761]\u001b[0m Trial 80 finished with value: -1.0236483335505857 and parameters: {'fit_intercept': True, 'alpha': 0.33881995087335204}. Best is trial 24 with value: -1.012243403940061.\u001b[0m\n",
      "\u001b[32m[I 2021-10-02 11:38:42,771]\u001b[0m Trial 81 finished with value: -1.0124494354389402 and parameters: {'fit_intercept': True, 'alpha': 0.036376307223657034}. Best is trial 24 with value: -1.012243403940061.\u001b[0m\n",
      "\u001b[32m[I 2021-10-02 11:38:42,781]\u001b[0m Trial 82 finished with value: -1.0123898506447981 and parameters: {'fit_intercept': True, 'alpha': 0.03079181034875585}. Best is trial 24 with value: -1.012243403940061.\u001b[0m\n",
      "\u001b[32m[I 2021-10-02 11:38:42,791]\u001b[0m Trial 83 finished with value: -1.0122529630594905 and parameters: {'fit_intercept': True, 'alpha': 0.015357250666613281}. Best is trial 24 with value: -1.012243403940061.\u001b[0m\n",
      "\u001b[32m[I 2021-10-02 11:38:42,802]\u001b[0m Trial 84 finished with value: -1.0439684666389142 and parameters: {'fit_intercept': True, 'alpha': 0.5818537150667431}. Best is trial 24 with value: -1.012243403940061.\u001b[0m\n",
      "\u001b[32m[I 2021-10-02 11:38:42,813]\u001b[0m Trial 85 finished with value: -1.0234601903242448 and parameters: {'fit_intercept': True, 'alpha': 0.3358155521965013}. Best is trial 24 with value: -1.012243403940061.\u001b[0m\n",
      "\u001b[32m[I 2021-10-02 11:38:42,824]\u001b[0m Trial 86 finished with value: -1.0731770045375746 and parameters: {'fit_intercept': True, 'alpha': 0.8168148103663101}. Best is trial 24 with value: -1.012243403940061.\u001b[0m\n",
      "\u001b[32m[I 2021-10-02 11:38:42,835]\u001b[0m Trial 87 finished with value: -148.29491326531476 and parameters: {'fit_intercept': False, 'alpha': 0.513805380240751}. Best is trial 24 with value: -1.012243403940061.\u001b[0m\n",
      "\u001b[32m[I 2021-10-02 11:38:42,847]\u001b[0m Trial 88 finished with value: -1.018275354204078 and parameters: {'fit_intercept': True, 'alpha': 0.24014503454018463}. Best is trial 24 with value: -1.012243403940061.\u001b[0m\n",
      "\u001b[32m[I 2021-10-02 11:38:42,857]\u001b[0m Trial 89 finished with value: -1.1093975767534343 and parameters: {'fit_intercept': True, 'alpha': 1.0388552753036813}. Best is trial 24 with value: -1.012243403940061.\u001b[0m\n",
      "\u001b[32m[I 2021-10-02 11:38:42,866]\u001b[0m Trial 90 finished with value: -1.214445384827251 and parameters: {'fit_intercept': True, 'alpha': 1.5120974614289449}. Best is trial 24 with value: -1.012243403940061.\u001b[0m\n",
      "\u001b[32m[I 2021-10-02 11:38:42,876]\u001b[0m Trial 91 finished with value: -1.0137405658499183 and parameters: {'fit_intercept': True, 'alpha': 0.11025861551946582}. Best is trial 24 with value: -1.012243403940061.\u001b[0m\n",
      "\u001b[32m[I 2021-10-02 11:38:42,887]\u001b[0m Trial 92 finished with value: -1.0124817667136183 and parameters: {'fit_intercept': True, 'alpha': 0.03921456878509773}. Best is trial 24 with value: -1.012243403940061.\u001b[0m\n",
      "\u001b[32m[I 2021-10-02 11:38:42,897]\u001b[0m Trial 93 finished with value: -1.0371096621639015 and parameters: {'fit_intercept': True, 'alpha': 0.5121400644888301}. Best is trial 24 with value: -1.012243403940061.\u001b[0m\n",
      "\u001b[32m[I 2021-10-02 11:38:42,907]\u001b[0m Trial 94 finished with value: -1.0643184518096191 and parameters: {'fit_intercept': True, 'alpha': 0.753022337151042}. Best is trial 24 with value: -1.012243403940061.\u001b[0m\n",
      "\u001b[32m[I 2021-10-02 11:38:42,916]\u001b[0m Trial 95 finished with value: -6.35723094626458 and parameters: {'fit_intercept': True, 'alpha': 7.984450291563298}. Best is trial 24 with value: -1.012243403940061.\u001b[0m\n",
      "\u001b[32m[I 2021-10-02 11:38:42,926]\u001b[0m Trial 96 finished with value: -1.0204962677500369 and parameters: {'fit_intercept': True, 'alpha': 0.28471542476356043}. Best is trial 24 with value: -1.012243403940061.\u001b[0m\n",
      "\u001b[32m[I 2021-10-02 11:38:42,937]\u001b[0m Trial 97 finished with value: -1.0835678119591896 and parameters: {'fit_intercept': True, 'alpha': 0.8860132774035756}. Best is trial 24 with value: -1.012243403940061.\u001b[0m\n",
      "\u001b[32m[I 2021-10-02 11:38:42,950]\u001b[0m Trial 98 finished with value: -1.0122816346172487 and parameters: {'fit_intercept': True, 'alpha': 0.019005468851041905}. Best is trial 24 with value: -1.012243403940061.\u001b[0m\n",
      "\u001b[32m[I 2021-10-02 11:38:42,961]\u001b[0m Trial 99 finished with value: -1.034004914034233 and parameters: {'fit_intercept': True, 'alpha': 0.4774460649269148}. Best is trial 24 with value: -1.012243403940061.\u001b[0m\n"
     ]
    }
   ],
   "metadata": {}
  },
  {
   "cell_type": "code",
   "execution_count": 17,
   "source": [
    "study.best_params"
   ],
   "outputs": [
    {
     "output_type": "execute_result",
     "data": {
      "text/plain": [
       "{'fit_intercept': True, 'alpha': 0.014071786651046192}"
      ]
     },
     "metadata": {},
     "execution_count": 17
    }
   ],
   "metadata": {}
  },
  {
   "cell_type": "code",
   "execution_count": 18,
   "source": [
    "model = Ridge(**study.best_params)\r\n",
    "model.fit(X_train_scaled, y_train)"
   ],
   "outputs": [
    {
     "output_type": "execute_result",
     "data": {
      "text/plain": [
       "Ridge(alpha=0.014071786651046192)"
      ]
     },
     "metadata": {},
     "execution_count": 18
    }
   ],
   "metadata": {}
  },
  {
   "cell_type": "markdown",
   "source": [
    "## Modelo como hiperparámetro"
   ],
   "metadata": {}
  },
  {
   "cell_type": "code",
   "execution_count": 19,
   "source": [
    "def objective(trial):\r\n",
    "\r\n",
    "    hyperparams = {\r\n",
    "        \"fit_intercept\": trial.suggest_categorical(\"fit_intercept\", [True, False]),\r\n",
    "        \"alpha\": trial.suggest_float(\"alpha\", 1e-2, 10)\r\n",
    "    }\r\n",
    "\r\n",
    "    model = trial.suggest_categorical(\"model\", [\"lasso\", \"ridge\"])\r\n",
    "\r\n",
    "    if model == \"lasso\":\r\n",
    "\r\n",
    "        model = Lasso(**hyperparams)\r\n",
    "\r\n",
    "    else:\r\n",
    "\r\n",
    "        model = Ridge(**hyperparams)\r\n",
    "\r\n",
    "    score = cross_val_score(model, X_train_scaled, y_train, scoring=\"neg_mean_squared_error\", cv=5).mean()\r\n",
    "\r\n",
    "    return score"
   ],
   "outputs": [],
   "metadata": {}
  },
  {
   "cell_type": "code",
   "execution_count": 20,
   "source": [
    "study = optuna.create_study(direction=\"maximize\")\r\n",
    "study.optimize(objective, n_trials=100)"
   ],
   "outputs": [
    {
     "output_type": "stream",
     "name": "stderr",
     "text": [
      "\u001b[32m[I 2021-10-02 11:41:32,511]\u001b[0m A new study created in memory with name: no-name-5724f510-bc96-487b-92f6-26c50e88ce4e\u001b[0m\n",
      "\u001b[32m[I 2021-10-02 11:41:32,519]\u001b[0m Trial 0 finished with value: -2.9705343757794607 and parameters: {'fit_intercept': True, 'alpha': 4.793571739412173, 'model': 'ridge'}. Best is trial 0 with value: -2.9705343757794607.\u001b[0m\n",
      "\u001b[32m[I 2021-10-02 11:41:32,525]\u001b[0m Trial 1 finished with value: -482.3146666387953 and parameters: {'fit_intercept': True, 'alpha': 8.468569241303525, 'model': 'lasso'}. Best is trial 0 with value: -2.9705343757794607.\u001b[0m\n",
      "\u001b[32m[I 2021-10-02 11:41:32,531]\u001b[0m Trial 2 finished with value: -148.3663175274616 and parameters: {'fit_intercept': False, 'alpha': 1.0315618993010016, 'model': 'ridge'}. Best is trial 0 with value: -2.9705343757794607.\u001b[0m\n",
      "\u001b[32m[I 2021-10-02 11:41:32,537]\u001b[0m Trial 3 finished with value: -150.60659383016798 and parameters: {'fit_intercept': False, 'alpha': 5.244526576719333, 'model': 'ridge'}. Best is trial 0 with value: -2.9705343757794607.\u001b[0m\n",
      "\u001b[32m[I 2021-10-02 11:41:32,543]\u001b[0m Trial 4 finished with value: -183.55284118023684 and parameters: {'fit_intercept': True, 'alpha': 4.895221861263868, 'model': 'lasso'}. Best is trial 0 with value: -2.9705343757794607.\u001b[0m\n",
      "\u001b[32m[I 2021-10-02 11:41:32,549]\u001b[0m Trial 5 finished with value: -153.79242368089064 and parameters: {'fit_intercept': False, 'alpha': 8.125066005911265, 'model': 'ridge'}. Best is trial 0 with value: -2.9705343757794607.\u001b[0m\n",
      "\u001b[32m[I 2021-10-02 11:41:32,556]\u001b[0m Trial 6 finished with value: -1.0061477613902992 and parameters: {'fit_intercept': True, 'alpha': 0.02511745240059432, 'model': 'lasso'}. Best is trial 6 with value: -1.0061477613902992.\u001b[0m\n",
      "\u001b[32m[I 2021-10-02 11:41:32,564]\u001b[0m Trial 7 finished with value: -662.9236835533761 and parameters: {'fit_intercept': False, 'alpha': 8.847644702575469, 'model': 'lasso'}. Best is trial 6 with value: -1.0061477613902992.\u001b[0m\n",
      "\u001b[32m[I 2021-10-02 11:41:32,572]\u001b[0m Trial 8 finished with value: -151.56626882403938 and parameters: {'fit_intercept': False, 'alpha': 6.247424857920227, 'model': 'ridge'}. Best is trial 6 with value: -1.0061477613902992.\u001b[0m\n",
      "\u001b[32m[I 2021-10-02 11:41:32,577]\u001b[0m Trial 9 finished with value: -150.3151798193369 and parameters: {'fit_intercept': False, 'alpha': 4.9011749696399365, 'model': 'ridge'}. Best is trial 6 with value: -1.0061477613902992.\u001b[0m\n",
      "\u001b[32m[I 2021-10-02 11:41:32,586]\u001b[0m Trial 10 finished with value: -2.4085588985125055 and parameters: {'fit_intercept': True, 'alpha': 0.42687646578022953, 'model': 'lasso'}. Best is trial 6 with value: -1.0061477613902992.\u001b[0m\n",
      "\u001b[32m[I 2021-10-02 11:41:32,596]\u001b[0m Trial 11 finished with value: -1.076952502506348 and parameters: {'fit_intercept': True, 'alpha': 0.10009520046087861, 'model': 'lasso'}. Best is trial 6 with value: -1.0061477613902992.\u001b[0m\n",
      "\u001b[32m[I 2021-10-02 11:41:32,606]\u001b[0m Trial 12 finished with value: -34.74733920191771 and parameters: {'fit_intercept': True, 'alpha': 2.1023606995077455, 'model': 'lasso'}. Best is trial 6 with value: -1.0061477613902992.\u001b[0m\n",
      "\u001b[32m[I 2021-10-02 11:41:32,616]\u001b[0m Trial 13 finished with value: -47.73096011921929 and parameters: {'fit_intercept': True, 'alpha': 2.474666517958286, 'model': 'lasso'}. Best is trial 6 with value: -1.0061477613902992.\u001b[0m\n",
      "\u001b[32m[I 2021-10-02 11:41:32,627]\u001b[0m Trial 14 finished with value: -59.18927106426803 and parameters: {'fit_intercept': True, 'alpha': 2.761919122554341, 'model': 'lasso'}. Best is trial 6 with value: -1.0061477613902992.\u001b[0m\n",
      "\u001b[32m[I 2021-10-02 11:41:32,638]\u001b[0m Trial 15 finished with value: -1.0065158144404325 and parameters: {'fit_intercept': True, 'alpha': 0.011643263095964348, 'model': 'lasso'}. Best is trial 6 with value: -1.0061477613902992.\u001b[0m\n",
      "\u001b[32m[I 2021-10-02 11:41:32,647]\u001b[0m Trial 16 finished with value: -21.212180783470174 and parameters: {'fit_intercept': True, 'alpha': 1.6261192100617048, 'model': 'lasso'}. Best is trial 6 with value: -1.0061477613902992.\u001b[0m\n",
      "\u001b[32m[I 2021-10-02 11:41:32,657]\u001b[0m Trial 17 finished with value: -93.08526087117016 and parameters: {'fit_intercept': True, 'alpha': 3.475513271665905, 'model': 'lasso'}. Best is trial 6 with value: -1.0061477613902992.\u001b[0m\n",
      "\u001b[32m[I 2021-10-02 11:41:32,667]\u001b[0m Trial 18 finished with value: -93.74118414750667 and parameters: {'fit_intercept': True, 'alpha': 3.487884290880268, 'model': 'lasso'}. Best is trial 6 with value: -1.0061477613902992.\u001b[0m\n",
      "\u001b[32m[I 2021-10-02 11:41:32,677]\u001b[0m Trial 19 finished with value: -8.151015737533715 and parameters: {'fit_intercept': True, 'alpha': 0.965698688980619, 'model': 'lasso'}. Best is trial 6 with value: -1.0061477613902992.\u001b[0m\n",
      "\u001b[32m[I 2021-10-02 11:41:32,688]\u001b[0m Trial 20 finished with value: -349.32842442378853 and parameters: {'fit_intercept': True, 'alpha': 6.838690412302907, 'model': 'lasso'}. Best is trial 6 with value: -1.0061477613902992.\u001b[0m\n",
      "\u001b[32m[I 2021-10-02 11:41:32,698]\u001b[0m Trial 21 finished with value: -3.531420144820885 and parameters: {'fit_intercept': True, 'alpha': 0.5732245188760926, 'model': 'lasso'}. Best is trial 6 with value: -1.0061477613902992.\u001b[0m\n",
      "\u001b[32m[I 2021-10-02 11:41:32,707]\u001b[0m Trial 22 finished with value: -2.5473454220197875 and parameters: {'fit_intercept': True, 'alpha': 0.4475390891401576, 'model': 'lasso'}. Best is trial 6 with value: -1.0061477613902992.\u001b[0m\n",
      "\u001b[32m[I 2021-10-02 11:41:32,719]\u001b[0m Trial 23 finished with value: -1.0461727067443138 and parameters: {'fit_intercept': True, 'alpha': 0.07849710050566801, 'model': 'lasso'}. Best is trial 6 with value: -1.0061477613902992.\u001b[0m\n",
      "\u001b[32m[I 2021-10-02 11:41:32,729]\u001b[0m Trial 24 finished with value: -18.523667540253633 and parameters: {'fit_intercept': True, 'alpha': 1.5138423850812215, 'model': 'lasso'}. Best is trial 6 with value: -1.0061477613902992.\u001b[0m\n",
      "\u001b[32m[I 2021-10-02 11:41:32,738]\u001b[0m Trial 25 finished with value: -96.05891209559465 and parameters: {'fit_intercept': True, 'alpha': 3.531251039110879, 'model': 'lasso'}. Best is trial 6 with value: -1.0061477613902992.\u001b[0m\n",
      "\u001b[32m[I 2021-10-02 11:41:32,747]\u001b[0m Trial 26 finished with value: -16.90984581378165 and parameters: {'fit_intercept': True, 'alpha': 1.4422674293656121, 'model': 'lasso'}. Best is trial 6 with value: -1.0061477613902992.\u001b[0m\n",
      "\u001b[32m[I 2021-10-02 11:41:32,757]\u001b[0m Trial 27 finished with value: -1.1459173082732632 and parameters: {'fit_intercept': True, 'alpha': 0.13696502465320398, 'model': 'lasso'}. Best is trial 6 with value: -1.0061477613902992.\u001b[0m\n",
      "\u001b[32m[I 2021-10-02 11:41:32,767]\u001b[0m Trial 28 finished with value: -34.495651669155514 and parameters: {'fit_intercept': True, 'alpha': 2.094491159791738, 'model': 'lasso'}. Best is trial 6 with value: -1.0061477613902992.\u001b[0m\n",
      "\u001b[32m[I 2021-10-02 11:41:32,778]\u001b[0m Trial 29 finished with value: -1.8280043245958502 and parameters: {'fit_intercept': True, 'alpha': 3.0740811948414413, 'model': 'ridge'}. Best is trial 6 with value: -1.0061477613902992.\u001b[0m\n",
      "\u001b[32m[I 2021-10-02 11:41:32,787]\u001b[0m Trial 30 finished with value: -582.5383791152601 and parameters: {'fit_intercept': True, 'alpha': 9.521701064466123, 'model': 'lasso'}. Best is trial 6 with value: -1.0061477613902992.\u001b[0m\n",
      "\u001b[32m[I 2021-10-02 11:41:32,797]\u001b[0m Trial 31 finished with value: -1.0079833834375744 and parameters: {'fit_intercept': True, 'alpha': 0.032195023777706964, 'model': 'lasso'}. Best is trial 6 with value: -1.0061477613902992.\u001b[0m\n",
      "\u001b[32m[I 2021-10-02 11:41:32,808]\u001b[0m Trial 32 finished with value: -7.517478069940294 and parameters: {'fit_intercept': True, 'alpha': 0.9217664564386757, 'model': 'lasso'}. Best is trial 6 with value: -1.0061477613902992.\u001b[0m\n",
      "\u001b[32m[I 2021-10-02 11:41:32,818]\u001b[0m Trial 33 finished with value: -1.0572044286153788 and parameters: {'fit_intercept': True, 'alpha': 0.0868244293333964, 'model': 'lasso'}. Best is trial 6 with value: -1.0061477613902992.\u001b[0m\n",
      "\u001b[32m[I 2021-10-02 11:41:32,828]\u001b[0m Trial 34 finished with value: -9.590009733797276 and parameters: {'fit_intercept': True, 'alpha': 1.0587617096199606, 'model': 'lasso'}. Best is trial 6 with value: -1.0061477613902992.\u001b[0m\n",
      "\u001b[32m[I 2021-10-02 11:41:32,840]\u001b[0m Trial 35 finished with value: -148.58815105838585 and parameters: {'fit_intercept': False, 'alpha': 1.90184726442862, 'model': 'ridge'}. Best is trial 6 with value: -1.0061477613902992.\u001b[0m\n",
      "\u001b[32m[I 2021-10-02 11:41:32,854]\u001b[0m Trial 36 finished with value: -8.588091823717395 and parameters: {'fit_intercept': True, 'alpha': 0.9948822252309725, 'model': 'lasso'}. Best is trial 6 with value: -1.0061477613902992.\u001b[0m\n",
      "\u001b[32m[I 2021-10-02 11:41:32,864]\u001b[0m Trial 37 finished with value: -149.9296925536346 and parameters: {'fit_intercept': False, 'alpha': 0.7295004460111717, 'model': 'lasso'}. Best is trial 6 with value: -1.0061477613902992.\u001b[0m\n",
      "\u001b[32m[I 2021-10-02 11:41:32,873]\u001b[0m Trial 38 finished with value: -1.1663738026074388 and parameters: {'fit_intercept': True, 'alpha': 1.3162122867262016, 'model': 'ridge'}. Best is trial 6 with value: -1.0061477613902992.\u001b[0m\n",
      "\u001b[32m[I 2021-10-02 11:41:32,884]\u001b[0m Trial 39 finished with value: -498.3289027294235 and parameters: {'fit_intercept': False, 'alpha': 6.894869091339843, 'model': 'lasso'}. Best is trial 6 with value: -1.0061477613902992.\u001b[0m\n",
      "\u001b[32m[I 2021-10-02 11:41:32,894]\u001b[0m Trial 40 finished with value: -3.8027800894968293 and parameters: {'fit_intercept': True, 'alpha': 5.7376521110269065, 'model': 'ridge'}. Best is trial 6 with value: -1.0061477613902992.\u001b[0m\n",
      "\u001b[32m[I 2021-10-02 11:41:32,903]\u001b[0m Trial 41 finished with value: -1.3572897009680687 and parameters: {'fit_intercept': True, 'alpha': 0.21416621964525162, 'model': 'lasso'}. Best is trial 6 with value: -1.0061477613902992.\u001b[0m\n",
      "\u001b[32m[I 2021-10-02 11:41:32,913]\u001b[0m Trial 42 finished with value: -1.1897950014507168 and parameters: {'fit_intercept': True, 'alpha': 0.1560733109719474, 'model': 'lasso'}. Best is trial 6 with value: -1.0061477613902992.\u001b[0m\n",
      "\u001b[32m[I 2021-10-02 11:41:32,922]\u001b[0m Trial 43 finished with value: -138.43611310554732 and parameters: {'fit_intercept': True, 'alpha': 4.246882641649772, 'model': 'lasso'}. Best is trial 6 with value: -1.0061477613902992.\u001b[0m\n",
      "\u001b[32m[I 2021-10-02 11:41:32,931]\u001b[0m Trial 44 finished with value: -1.0058738123572066 and parameters: {'fit_intercept': True, 'alpha': 0.014929483724543922, 'model': 'lasso'}. Best is trial 44 with value: -1.0058738123572066.\u001b[0m\n",
      "\u001b[32m[I 2021-10-02 11:41:32,941]\u001b[0m Trial 45 finished with value: -5.960297048585094 and parameters: {'fit_intercept': True, 'alpha': 0.8036984155807342, 'model': 'lasso'}. Best is trial 44 with value: -1.0058738123572066.\u001b[0m\n",
      "\u001b[32m[I 2021-10-02 11:41:32,951]\u001b[0m Trial 46 finished with value: -192.5381451093278 and parameters: {'fit_intercept': False, 'alpha': 2.4474117863552682, 'model': 'lasso'}. Best is trial 44 with value: -1.0058738123572066.\u001b[0m\n",
      "\u001b[32m[I 2021-10-02 11:41:32,961]\u001b[0m Trial 47 finished with value: -1.0084355618399983 and parameters: {'fit_intercept': True, 'alpha': 0.03346054929451832, 'model': 'lasso'}. Best is trial 44 with value: -1.0058738123572066.\u001b[0m\n",
      "\u001b[32m[I 2021-10-02 11:41:32,971]\u001b[0m Trial 48 finished with value: -1.2865978254680948 and parameters: {'fit_intercept': True, 'alpha': 1.7667240172534617, 'model': 'ridge'}. Best is trial 44 with value: -1.0058738123572066.\u001b[0m\n",
      "\u001b[32m[I 2021-10-02 11:41:32,982]\u001b[0m Trial 49 finished with value: -3.278212433195699 and parameters: {'fit_intercept': True, 'alpha': 0.5436457932233475, 'model': 'lasso'}. Best is trial 44 with value: -1.0058738123572066.\u001b[0m\n",
      "\u001b[32m[I 2021-10-02 11:41:32,994]\u001b[0m Trial 50 finished with value: -154.82793531942303 and parameters: {'fit_intercept': False, 'alpha': 1.0702857824216936, 'model': 'lasso'}. Best is trial 44 with value: -1.0058738123572066.\u001b[0m\n",
      "\u001b[32m[I 2021-10-02 11:41:33,007]\u001b[0m Trial 51 finished with value: -2.890577171790633 and parameters: {'fit_intercept': True, 'alpha': 0.49498174179389753, 'model': 'lasso'}. Best is trial 44 with value: -1.0058738123572066.\u001b[0m\n",
      "\u001b[32m[I 2021-10-02 11:41:33,019]\u001b[0m Trial 52 finished with value: -1.0204509494690508 and parameters: {'fit_intercept': True, 'alpha': 0.05383998375504538, 'model': 'lasso'}. Best is trial 44 with value: -1.0058738123572066.\u001b[0m\n",
      "\u001b[32m[I 2021-10-02 11:41:33,030]\u001b[0m Trial 53 finished with value: -12.197089683912676 and parameters: {'fit_intercept': True, 'alpha': 1.209327236028612, 'model': 'lasso'}. Best is trial 44 with value: -1.0058738123572066.\u001b[0m\n",
      "\u001b[32m[I 2021-10-02 11:41:33,041]\u001b[0m Trial 54 finished with value: -3.2717703257351536 and parameters: {'fit_intercept': True, 'alpha': 0.5428724033554291, 'model': 'lasso'}. Best is trial 44 with value: -1.0058738123572066.\u001b[0m\n",
      "\u001b[32m[I 2021-10-02 11:41:33,053]\u001b[0m Trial 55 finished with value: -3.665893975786836 and parameters: {'fit_intercept': True, 'alpha': 0.5883335326098345, 'model': 'lasso'}. Best is trial 44 with value: -1.0058738123572066.\u001b[0m\n",
      "\u001b[32m[I 2021-10-02 11:41:33,062]\u001b[0m Trial 56 finished with value: -1.0530647645777909 and parameters: {'fit_intercept': True, 'alpha': 0.08379175547637543, 'model': 'lasso'}. Best is trial 44 with value: -1.0058738123572066.\u001b[0m\n",
      "\u001b[32m[I 2021-10-02 11:41:33,075]\u001b[0m Trial 57 finished with value: -20.831874396335195 and parameters: {'fit_intercept': True, 'alpha': 1.6107109838321714, 'model': 'lasso'}. Best is trial 44 with value: -1.0058738123572066.\u001b[0m\n",
      "\u001b[32m[I 2021-10-02 11:41:33,086]\u001b[0m Trial 58 finished with value: -458.332406144831 and parameters: {'fit_intercept': True, 'alpha': 8.19657561078477, 'model': 'lasso'}. Best is trial 44 with value: -1.0058738123572066.\u001b[0m\n",
      "\u001b[32m[I 2021-10-02 11:41:33,096]\u001b[0m Trial 59 finished with value: -144.80492288046884 and parameters: {'fit_intercept': True, 'alpha': 4.344267027164306, 'model': 'lasso'}. Best is trial 44 with value: -1.0058738123572066.\u001b[0m\n",
      "\u001b[32m[I 2021-10-02 11:41:33,105]\u001b[0m Trial 60 finished with value: -37.70210794311417 and parameters: {'fit_intercept': True, 'alpha': 2.192640877281733, 'model': 'lasso'}. Best is trial 44 with value: -1.0058738123572066.\u001b[0m\n",
      "\u001b[32m[I 2021-10-02 11:41:33,115]\u001b[0m Trial 61 finished with value: -1.0506904108174715 and parameters: {'fit_intercept': True, 'alpha': 0.08200433363636614, 'model': 'lasso'}. Best is trial 44 with value: -1.0058738123572066.\u001b[0m\n",
      "\u001b[32m[I 2021-10-02 11:41:33,127]\u001b[0m Trial 62 finished with value: -2.082118144295604 and parameters: {'fit_intercept': True, 'alpha': 0.3738527863999763, 'model': 'lasso'}. Best is trial 44 with value: -1.0058738123572066.\u001b[0m\n",
      "\u001b[32m[I 2021-10-02 11:41:33,137]\u001b[0m Trial 63 finished with value: -1.0057747338034457 and parameters: {'fit_intercept': True, 'alpha': 0.016138665783094634, 'model': 'lasso'}. Best is trial 63 with value: -1.0057747338034457.\u001b[0m\n",
      "\u001b[32m[I 2021-10-02 11:41:33,146]\u001b[0m Trial 64 finished with value: -5.527012365395571 and parameters: {'fit_intercept': True, 'alpha': 0.7676408787677184, 'model': 'lasso'}. Best is trial 63 with value: -1.0057747338034457.\u001b[0m\n",
      "\u001b[32m[I 2021-10-02 11:41:33,158]\u001b[0m Trial 65 finished with value: -13.839477134699223 and parameters: {'fit_intercept': True, 'alpha': 1.2952546597721342, 'model': 'lasso'}. Best is trial 63 with value: -1.0057747338034457.\u001b[0m\n",
      "\u001b[32m[I 2021-10-02 11:41:33,169]\u001b[0m Trial 66 finished with value: -2.118488375982224 and parameters: {'fit_intercept': True, 'alpha': 0.3801224401237676, 'model': 'lasso'}. Best is trial 63 with value: -1.0057747338034457.\u001b[0m\n",
      "\u001b[32m[I 2021-10-02 11:41:33,179]\u001b[0m Trial 67 finished with value: -1.0806130791855477 and parameters: {'fit_intercept': True, 'alpha': 0.8668775625087688, 'model': 'ridge'}. Best is trial 63 with value: -1.0057747338034457.\u001b[0m\n",
      "\u001b[32m[I 2021-10-02 11:41:33,190]\u001b[0m Trial 68 finished with value: -1.0061107693896312 and parameters: {'fit_intercept': True, 'alpha': 0.013490610605432926, 'model': 'lasso'}. Best is trial 63 with value: -1.0057747338034457.\u001b[0m\n",
      "\u001b[32m[I 2021-10-02 11:41:33,201]\u001b[0m Trial 69 finished with value: -16.11450479070547 and parameters: {'fit_intercept': True, 'alpha': 1.4056572755509646, 'model': 'lasso'}. Best is trial 63 with value: -1.0057747338034457.\u001b[0m\n",
      "\u001b[32m[I 2021-10-02 11:41:33,211]\u001b[0m Trial 70 finished with value: -146.79122124703053 and parameters: {'fit_intercept': False, 'alpha': 0.3683622266168298, 'model': 'lasso'}. Best is trial 63 with value: -1.0057747338034457.\u001b[0m\n",
      "\u001b[32m[I 2021-10-02 11:41:33,224]\u001b[0m Trial 71 finished with value: -4.9262782779618535 and parameters: {'fit_intercept': True, 'alpha': 0.7146632569244916, 'model': 'lasso'}. Best is trial 63 with value: -1.0057747338034457.\u001b[0m\n",
      "\u001b[32m[I 2021-10-02 11:41:33,233]\u001b[0m Trial 72 finished with value: -1.0079922635689242 and parameters: {'fit_intercept': True, 'alpha': 0.03222027512275159, 'model': 'lasso'}. Best is trial 63 with value: -1.0057747338034457.\u001b[0m\n",
      "\u001b[32m[I 2021-10-02 11:41:33,248]\u001b[0m Trial 73 finished with value: -2.226684092497283 and parameters: {'fit_intercept': True, 'alpha': 0.39819690858244733, 'model': 'lasso'}. Best is trial 63 with value: -1.0057747338034457.\u001b[0m\n",
      "\u001b[32m[I 2021-10-02 11:41:33,260]\u001b[0m Trial 74 finished with value: -1.0064145997196483 and parameters: {'fit_intercept': True, 'alpha': 0.012059798849920728, 'model': 'lasso'}. Best is trial 63 with value: -1.0057747338034457.\u001b[0m\n",
      "\u001b[32m[I 2021-10-02 11:41:33,270]\u001b[0m Trial 75 finished with value: -8.290611645220322 and parameters: {'fit_intercept': True, 'alpha': 0.9751140018122951, 'model': 'lasso'}. Best is trial 63 with value: -1.0057747338034457.\u001b[0m\n",
      "\u001b[32m[I 2021-10-02 11:41:33,283]\u001b[0m Trial 76 finished with value: -1.006529887259934 and parameters: {'fit_intercept': True, 'alpha': 0.011587158087317261, 'model': 'lasso'}. Best is trial 63 with value: -1.0057747338034457.\u001b[0m\n",
      "\u001b[32m[I 2021-10-02 11:41:33,294]\u001b[0m Trial 77 finished with value: -4.012684656428682 and parameters: {'fit_intercept': True, 'alpha': 0.6256141208830865, 'model': 'lasso'}. Best is trial 63 with value: -1.0057747338034457.\u001b[0m\n",
      "\u001b[32m[I 2021-10-02 11:41:33,304]\u001b[0m Trial 78 finished with value: -1.0271093826710627 and parameters: {'fit_intercept': True, 'alpha': 0.39026934625779136, 'model': 'ridge'}. Best is trial 63 with value: -1.0057747338034457.\u001b[0m\n",
      "\u001b[32m[I 2021-10-02 11:41:33,318]\u001b[0m Trial 79 finished with value: -11.467251149405842 and parameters: {'fit_intercept': True, 'alpha': 1.1691257491334401, 'model': 'lasso'}. Best is trial 63 with value: -1.0057747338034457.\u001b[0m\n",
      "\u001b[32m[I 2021-10-02 11:41:33,330]\u001b[0m Trial 80 finished with value: -1.7183171597178029 and parameters: {'fit_intercept': True, 'alpha': 0.3042091665181395, 'model': 'lasso'}. Best is trial 63 with value: -1.0057747338034457.\u001b[0m\n",
      "\u001b[32m[I 2021-10-02 11:41:33,341]\u001b[0m Trial 81 finished with value: -1.0181576322278816 and parameters: {'fit_intercept': True, 'alpha': 0.050977371683253246, 'model': 'lasso'}. Best is trial 63 with value: -1.0057747338034457.\u001b[0m\n",
      "\u001b[32m[I 2021-10-02 11:41:33,351]\u001b[0m Trial 82 finished with value: -372.3964312594396 and parameters: {'fit_intercept': True, 'alpha': 7.138145728804938, 'model': 'lasso'}. Best is trial 63 with value: -1.0057747338034457.\u001b[0m\n",
      "\u001b[32m[I 2021-10-02 11:41:33,364]\u001b[0m Trial 83 finished with value: -6.599150116654798 and parameters: {'fit_intercept': True, 'alpha': 0.85410386026754, 'model': 'lasso'}. Best is trial 63 with value: -1.0057747338034457.\u001b[0m\n",
      "\u001b[32m[I 2021-10-02 11:41:33,376]\u001b[0m Trial 84 finished with value: -1.6011988429376074 and parameters: {'fit_intercept': True, 'alpha': 0.2781604075568313, 'model': 'lasso'}. Best is trial 63 with value: -1.0057747338034457.\u001b[0m\n",
      "\u001b[32m[I 2021-10-02 11:41:33,388]\u001b[0m Trial 85 finished with value: -5.113582549962476 and parameters: {'fit_intercept': True, 'alpha': 0.7315904798825021, 'model': 'lasso'}. Best is trial 63 with value: -1.0057747338034457.\u001b[0m\n",
      "\u001b[32m[I 2021-10-02 11:41:33,399]\u001b[0m Trial 86 finished with value: -147.90050330926246 and parameters: {'fit_intercept': False, 'alpha': 0.031420166975987374, 'model': 'lasso'}. Best is trial 63 with value: -1.0057747338034457.\u001b[0m\n",
      "\u001b[32m[I 2021-10-02 11:41:33,412]\u001b[0m Trial 87 finished with value: -220.62224435196276 and parameters: {'fit_intercept': True, 'alpha': 5.369698525437654, 'model': 'lasso'}. Best is trial 63 with value: -1.0057747338034457.\u001b[0m\n",
      "\u001b[32m[I 2021-10-02 11:41:33,423]\u001b[0m Trial 88 finished with value: -3.987866263391966 and parameters: {'fit_intercept': True, 'alpha': 0.6230187537330487, 'model': 'lasso'}. Best is trial 63 with value: -1.0057747338034457.\u001b[0m\n",
      "\u001b[32m[I 2021-10-02 11:41:33,433]\u001b[0m Trial 89 finished with value: -1.7870037708502735 and parameters: {'fit_intercept': True, 'alpha': 0.3185101477015801, 'model': 'lasso'}. Best is trial 63 with value: -1.0057747338034457.\u001b[0m\n",
      "\u001b[32m[I 2021-10-02 11:41:33,444]\u001b[0m Trial 90 finished with value: -1.12137733060067 and parameters: {'fit_intercept': True, 'alpha': 1.1027923924588898, 'model': 'ridge'}. Best is trial 63 with value: -1.0057747338034457.\u001b[0m\n",
      "\u001b[32m[I 2021-10-02 11:41:33,455]\u001b[0m Trial 91 finished with value: -1.0218206021180378 and parameters: {'fit_intercept': True, 'alpha': 0.05542162638676254, 'model': 'lasso'}. Best is trial 63 with value: -1.0057747338034457.\u001b[0m\n",
      "\u001b[32m[I 2021-10-02 11:41:33,466]\u001b[0m Trial 92 finished with value: -1.7392978486312056 and parameters: {'fit_intercept': True, 'alpha': 0.30864676734954233, 'model': 'lasso'}. Best is trial 63 with value: -1.0057747338034457.\u001b[0m\n",
      "\u001b[32m[I 2021-10-02 11:41:33,478]\u001b[0m Trial 93 finished with value: -619.0327693653278 and parameters: {'fit_intercept': True, 'alpha': 9.877382192282433, 'model': 'lasso'}. Best is trial 63 with value: -1.0057747338034457.\u001b[0m\n",
      "\u001b[32m[I 2021-10-02 11:41:33,490]\u001b[0m Trial 94 finished with value: -3.3509861373177117 and parameters: {'fit_intercept': True, 'alpha': 0.5523078336196412, 'model': 'lasso'}. Best is trial 63 with value: -1.0057747338034457.\u001b[0m\n",
      "\u001b[32m[I 2021-10-02 11:41:33,501]\u001b[0m Trial 95 finished with value: -1.3356696546318392 and parameters: {'fit_intercept': True, 'alpha': 0.2075638881919082, 'model': 'lasso'}. Best is trial 63 with value: -1.0057747338034457.\u001b[0m\n",
      "\u001b[32m[I 2021-10-02 11:41:33,513]\u001b[0m Trial 96 finished with value: -1.0092449903599665 and parameters: {'fit_intercept': True, 'alpha': 0.03536030864819724, 'model': 'lasso'}. Best is trial 63 with value: -1.0057747338034457.\u001b[0m\n",
      "\u001b[32m[I 2021-10-02 11:41:33,526]\u001b[0m Trial 97 finished with value: -26.179903300650466 and parameters: {'fit_intercept': True, 'alpha': 1.815445550116361, 'model': 'lasso'}. Best is trial 63 with value: -1.0057747338034457.\u001b[0m\n",
      "\u001b[32m[I 2021-10-02 11:41:33,537]\u001b[0m Trial 98 finished with value: -151.9169207709354 and parameters: {'fit_intercept': False, 'alpha': 0.882890760528855, 'model': 'lasso'}. Best is trial 63 with value: -1.0057747338034457.\u001b[0m\n",
      "\u001b[32m[I 2021-10-02 11:41:33,549]\u001b[0m Trial 99 finished with value: -3.6392082846481166 and parameters: {'fit_intercept': True, 'alpha': 0.5853660035051208, 'model': 'lasso'}. Best is trial 63 with value: -1.0057747338034457.\u001b[0m\n"
     ]
    }
   ],
   "metadata": {}
  },
  {
   "cell_type": "code",
   "execution_count": 21,
   "source": [
    "study.best_params"
   ],
   "outputs": [
    {
     "output_type": "execute_result",
     "data": {
      "text/plain": [
       "{'fit_intercept': True, 'alpha': 0.016138665783094634, 'model': 'lasso'}"
      ]
     },
     "metadata": {},
     "execution_count": 21
    }
   ],
   "metadata": {}
  },
  {
   "cell_type": "code",
   "execution_count": 22,
   "source": [
    "model = Lasso(fit_intercept=study.best_params[\"fit_intercept\"], alpha=study.best_params[\"alpha\"])\r\n",
    "model.fit(X_train_scaled, y_train)"
   ],
   "outputs": [
    {
     "output_type": "execute_result",
     "data": {
      "text/plain": [
       "Lasso(alpha=0.016138665783094634)"
      ]
     },
     "metadata": {},
     "execution_count": 22
    }
   ],
   "metadata": {}
  },
  {
   "cell_type": "code",
   "execution_count": 24,
   "source": [
    "mean_squared_error(y_train, model.predict(X_train_scaled))"
   ],
   "outputs": [
    {
     "output_type": "execute_result",
     "data": {
      "text/plain": [
       "0.9611345757521512"
      ]
     },
     "metadata": {},
     "execution_count": 24
    }
   ],
   "metadata": {}
  },
  {
   "cell_type": "code",
   "execution_count": 25,
   "source": [
    "mean_squared_error(y_test, model.predict(X_test_scaled))"
   ],
   "outputs": [
    {
     "output_type": "execute_result",
     "data": {
      "text/plain": [
       "0.9411907218653706"
      ]
     },
     "metadata": {},
     "execution_count": 25
    }
   ],
   "metadata": {}
  },
  {
   "cell_type": "code",
   "execution_count": 26,
   "source": [
    "model.coef_"
   ],
   "outputs": [
    {
     "output_type": "execute_result",
     "data": {
      "text/plain": [
       "array([ 9.04702952e+01,  7.93994672e+00,  0.00000000e+00,  7.52590899e+01,\n",
       "        6.40805894e+01,  6.37021677e+01,  0.00000000e+00,  2.04519621e-02,\n",
       "        7.31949298e+01,  5.98340315e+00,  4.57304382e-02,  1.24030217e-02,\n",
       "       -2.84433840e-02,  1.50345449e-02, -3.77029426e-02])"
      ]
     },
     "metadata": {},
     "execution_count": 26
    }
   ],
   "metadata": {}
  },
  {
   "cell_type": "code",
   "execution_count": 27,
   "source": [
    "coef"
   ],
   "outputs": [
    {
     "output_type": "execute_result",
     "data": {
      "text/plain": [
       "array([91.57126079,  8.15728285,  0.        , 75.25225827, 62.98360811,\n",
       "       60.62421488,  0.        ,  0.        , 76.4548471 ,  6.23733614,\n",
       "        0.        ,  0.        ,  0.        ,  0.        ,  0.        ])"
      ]
     },
     "metadata": {},
     "execution_count": 27
    }
   ],
   "metadata": {}
  },
  {
   "cell_type": "code",
   "execution_count": null,
   "source": [],
   "outputs": [],
   "metadata": {}
  }
 ],
 "metadata": {
  "orig_nbformat": 4,
  "language_info": {
   "name": "python",
   "version": "3.8.5",
   "mimetype": "text/x-python",
   "codemirror_mode": {
    "name": "ipython",
    "version": 3
   },
   "pygments_lexer": "ipython3",
   "nbconvert_exporter": "python",
   "file_extension": ".py"
  },
  "kernelspec": {
   "name": "python3",
   "display_name": "Python 3.8.5 64-bit ('tf-gpu': conda)"
  },
  "interpreter": {
   "hash": "e34dccbe19f3f53f0c47bdca238178aeb1a7788cd216c1cd766dfc395555d76f"
  }
 },
 "nbformat": 4,
 "nbformat_minor": 2
}